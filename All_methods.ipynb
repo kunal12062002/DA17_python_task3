{
 "cells": [
  {
   "cell_type": "markdown",
   "id": "0f28bcf8",
   "metadata": {},
   "source": [
    "# list methods"
   ]
  },
  {
   "cell_type": "code",
   "execution_count": null,
   "id": "ad76a87d",
   "metadata": {},
   "outputs": [
    {
     "name": "stdout",
     "output_type": "stream",
     "text": [
      "[1, 2, 3, 4, 5, 56]\n",
      "[1, 2, 3, 4, 5, 56, 'q']\n"
     ]
    }
   ],
   "source": [
    "# Append()\n",
    "a = [1,2,3,4,5]\n",
    "\n",
    "a.append(56)\n",
    "print(a)\n",
    "\n",
    "\n",
    "a.append(\"q\")\n",
    "\n",
    "print(a)\n",
    "\n",
    "# we can add anything in it\n"
   ]
  },
  {
   "cell_type": "code",
   "execution_count": null,
   "id": "541e3298",
   "metadata": {},
   "outputs": [
    {
     "name": "stdout",
     "output_type": "stream",
     "text": [
      "[1, 2, 3, 4, 5]\n"
     ]
    }
   ],
   "source": [
    "# copy()\n",
    "\n",
    "a = [1,2,3,4,5]\n",
    "b = a.copy()\n",
    "print(b)\n",
    "\n",
    "# we can copy anything using this method"
   ]
  },
  {
   "cell_type": "code",
   "execution_count": null,
   "id": "0ed2d905",
   "metadata": {},
   "outputs": [
    {
     "name": "stdout",
     "output_type": "stream",
     "text": [
      "[]\n"
     ]
    }
   ],
   "source": [
    "# clear()\n",
    "a.clear()\n",
    "print(a)\n",
    "\n",
    "\n",
    "#remove all items "
   ]
  },
  {
   "cell_type": "code",
   "execution_count": null,
   "id": "6a989e09",
   "metadata": {},
   "outputs": [
    {
     "name": "stdout",
     "output_type": "stream",
     "text": [
      "2\n"
     ]
    }
   ],
   "source": [
    "# count()\n",
    "\n",
    "A = [\"kunal\" , \"ramesh\", \"kunal\", \"Raj\", \"suresh\"]\n",
    "\n",
    "print(A.count(\"kunal\"))\n",
    "\n",
    "# it is used to count the number of occurance that each item has occured \n",
    "# in the above list there is 2 times kunal string has occured."
   ]
  },
  {
   "cell_type": "code",
   "execution_count": null,
   "id": "28765cb8",
   "metadata": {},
   "outputs": [
    {
     "data": {
      "text/plain": [
       "[1, 2, 3, 4, 5, [5, 6], 5, 6]"
      ]
     },
     "execution_count": 25,
     "metadata": {},
     "output_type": "execute_result"
    }
   ],
   "source": [
    "# Extend()\n",
    "\n",
    "b.extend([5,6])\n",
    "b\n",
    "\n",
    "# we can multiple values in list using this method "
   ]
  },
  {
   "cell_type": "code",
   "execution_count": null,
   "id": "115da3d7",
   "metadata": {},
   "outputs": [
    {
     "data": {
      "text/plain": [
       "[1, 2, 3, 4, 5, 5, 6]"
      ]
     },
     "execution_count": 27,
     "metadata": {},
     "output_type": "execute_result"
    }
   ],
   "source": [
    "# remove()\n",
    "\n",
    "b.remove([5,6])\n",
    "b\n",
    "\n",
    "# we can remove anything using this method "
   ]
  },
  {
   "cell_type": "code",
   "execution_count": 29,
   "id": "b8c5d9de",
   "metadata": {},
   "outputs": [
    {
     "data": {
      "text/plain": [
       "4"
      ]
     },
     "execution_count": 29,
     "metadata": {},
     "output_type": "execute_result"
    }
   ],
   "source": [
    "#index()\n",
    "\n",
    "# we can find index of any items using this method  \n",
    "\n",
    "b.index(5)\n"
   ]
  },
  {
   "cell_type": "code",
   "execution_count": 31,
   "id": "a1316083",
   "metadata": {},
   "outputs": [
    {
     "data": {
      "text/plain": [
       "[1, 2, 3]"
      ]
     },
     "execution_count": 31,
     "metadata": {},
     "output_type": "execute_result"
    }
   ],
   "source": [
    "# insert()\n",
    "\n",
    "a = [1,3]\n",
    "#insert 2 at inedex 1\n",
    "\n",
    "a.insert(1,2)\n",
    "a\n"
   ]
  },
  {
   "cell_type": "code",
   "execution_count": null,
   "id": "046efbbb",
   "metadata": {},
   "outputs": [
    {
     "name": "stdout",
     "output_type": "stream",
     "text": [
      "2\n",
      "[1]\n"
     ]
    }
   ],
   "source": [
    "# POP()\n",
    "\n",
    "print(a.pop())\n",
    "print(a)\n",
    "\n",
    "# removes the last item in the list"
   ]
  },
  {
   "cell_type": "code",
   "execution_count": 34,
   "id": "c35d16a3",
   "metadata": {},
   "outputs": [
    {
     "data": {
      "text/plain": [
       "[85, 56, 45]"
      ]
     },
     "execution_count": 34,
     "metadata": {},
     "output_type": "execute_result"
    }
   ],
   "source": [
    "# reverse()\n",
    "\n",
    "c = [45,56,85]\n",
    "c.reverse()\n",
    "c"
   ]
  },
  {
   "cell_type": "markdown",
   "id": "09ecc995",
   "metadata": {},
   "source": [
    "* this two methods are use for sorting the data in ascednig or descending order"
   ]
  },
  {
   "cell_type": "code",
   "execution_count": null,
   "id": "29ab9833",
   "metadata": {},
   "outputs": [],
   "source": [
    "# sort()\n",
    "\n",
    "# vice varsa of above in ascending order"
   ]
  },
  {
   "cell_type": "markdown",
   "id": "add6d425",
   "metadata": {},
   "source": [
    "# ---------------------*---------------------\n"
   ]
  },
  {
   "cell_type": "markdown",
   "id": "f165d4e4",
   "metadata": {},
   "source": [
    "# String methods\n"
   ]
  },
  {
   "cell_type": "code",
   "execution_count": null,
   "id": "72f485bb",
   "metadata": {},
   "outputs": [
    {
     "name": "stdout",
     "output_type": "stream",
     "text": [
      "Kunal titarmare\n",
      "Hello world\n"
     ]
    }
   ],
   "source": [
    " # capitalize()\n",
    "\n",
    "a = \"kunal Titarmare\"\n",
    "\n",
    "cap = a.capitalize()\n",
    "print(cap)\n",
    "\n",
    "s = \"hello WORLD\"\n",
    "res = s.capitalize()\n",
    "print(res)\n",
    "\n",
    "# Converts the first character of the string to a capital (uppercase) letter\n",
    "\n",
    "# upper()"
   ]
  },
  {
   "cell_type": "code",
   "execution_count": 1,
   "id": "bdce46ed",
   "metadata": {},
   "outputs": [],
   "source": [
    " # lower() or  # Casefold()\n"
   ]
  },
  {
   "cell_type": "code",
   "execution_count": 4,
   "id": "46d019ef",
   "metadata": {},
   "outputs": [
    {
     "name": "stdout",
     "output_type": "stream",
     "text": [
      "       kunal        \n",
      "-------kunal--------\n"
     ]
    }
   ],
   "source": [
    "# center()\n",
    "\n",
    "A = \"kunal\"\n",
    "\n",
    "print(A.center(20))\n",
    "\n",
    "#Explanation: Here, the word \"hello\" is centered within a \n",
    "# 20-character wide space, with spaces padded on both sides.\n",
    "\n",
    "print(A.center(20,'-'))"
   ]
  },
  {
   "cell_type": "code",
   "execution_count": 8,
   "id": "9005ff67",
   "metadata": {},
   "outputs": [
    {
     "name": "stdout",
     "output_type": "stream",
     "text": [
      "3\n"
     ]
    }
   ],
   "source": [
    "# Count()\n",
    "\n",
    "A = \"Kunal Titarmare\"\n",
    "\n",
    "print(A.count('a'))"
   ]
  },
  {
   "cell_type": "code",
   "execution_count": null,
   "id": "f1658970",
   "metadata": {},
   "outputs": [
    {
     "name": "stdout",
     "output_type": "stream",
     "text": [
      "True\n",
      "True\n"
     ]
    }
   ],
   "source": [
    "# The endswith() method is a tool in Python for \n",
    "# checking if a string ends with a particular substring. \n",
    "\n",
    "S = \"kunal kunal\"\n",
    "print(S.endswith(\"kunal\")) \n",
    "\n",
    "## This will print True because the string \n",
    "# ends with \"kunal\"\n",
    "\n",
    "s = \"geeksforgeeks\"\n",
    "res = s.endswith((\"geeks\", \"com\", \"org\"))\n",
    "print(res) \n",
    "\n",
    "## This will print True because 'geeks' is one of the option."
   ]
  },
  {
   "cell_type": "code",
   "execution_count": 16,
   "id": "75504127",
   "metadata": {},
   "outputs": [
    {
     "name": "stdout",
     "output_type": "stream",
     "text": [
      "Name    Age     Location\n",
      "A   B   C\n"
     ]
    }
   ],
   "source": [
    "#expandtabs() method in Python is used to replace\n",
    "#  all tab characters (\\t) in a string with spaces\n",
    "\n",
    "k = \"Name\\tAge\\tLocation\"\n",
    "\n",
    "print(k.expandtabs()) #default tab size\n",
    "\n",
    "s = \"A\\tB\\tC\"\n",
    "\n",
    "print(s.expandtabs(4)) # custome tab size"
   ]
  },
  {
   "cell_type": "code",
   "execution_count": null,
   "id": "a98e7c49",
   "metadata": {},
   "outputs": [
    {
     "name": "stdout",
     "output_type": "stream",
     "text": [
      "16\n"
     ]
    }
   ],
   "source": [
    "#find() method in Python returns the index of the first \n",
    "# occurrence of a substring within a given string.\n",
    "\n",
    "E = \"EV cars are the future of the automobile industry\"\n",
    "\n",
    "print(E.find(\"future of\"))\n",
    "\n",
    "# future of starts at 16th index\n",
    "\n"
   ]
  },
  {
   "cell_type": "markdown",
   "id": "244635cc",
   "metadata": {},
   "source": [
    "* find() vs index()\n",
    "\n",
    "* Both find() and index() methods locate a substring within a string. However, they differ in behavior when the substring is not found.\n",
    "\n",
    "    * find() returns the index or -1 if not found\n",
    "    * index() same as find(), but raises a ValueError if not found "
   ]
  },
  {
   "cell_type": "code",
   "execution_count": 20,
   "id": "1127992c",
   "metadata": {},
   "outputs": [
    {
     "name": "stdout",
     "output_type": "stream",
     "text": [
      "kunal-Narendra-titarmare\n"
     ]
    }
   ],
   "source": [
    "## The join() method in Python is used to concatenate the elements \n",
    "# of an iterable (such as a list, tuple, or set) into a\n",
    "# single string with a specified delimiter placed between each element.\n",
    "\n",
    "a = [\"kunal\", \"Narendra\", \"titarmare\"]\n",
    "\n",
    "print(\"-\".join(a))"
   ]
  },
  {
   "cell_type": "code",
   "execution_count": 21,
   "id": "ab945dfb",
   "metadata": {},
   "outputs": [
    {
     "name": "stdout",
     "output_type": "stream",
     "text": [
      "Hi World! Hi Python!\n"
     ]
    }
   ],
   "source": [
    "# The replace()\n",
    "\n",
    "s = \"Hello World! Hello Python!\"\n",
    "\n",
    "# Replace \"Hello\" with \"Hi\"\n",
    "s1 = s.replace(\"Hello\", \"Hi\")\n",
    "\n",
    "print(s1)"
   ]
  },
  {
   "cell_type": "code",
   "execution_count": 22,
   "id": "3cd141ec",
   "metadata": {},
   "outputs": [
    {
     "name": "stdout",
     "output_type": "stream",
     "text": [
      "GeeksforGeeks\n"
     ]
    }
   ],
   "source": [
    "# strip() method in Python removes \n",
    "# all leading and trailing whitespace by default.\n",
    "\n",
    "s = '  ##*#GeeksforGeeks#**##  '\n",
    "\n",
    "res = s.strip('#* ')\n",
    "print(res)"
   ]
  },
  {
   "cell_type": "code",
   "execution_count": 24,
   "id": "c871596f",
   "metadata": {},
   "outputs": [
    {
     "name": "stdout",
     "output_type": "stream",
     "text": [
      "False\n",
      "True\n"
     ]
    }
   ],
   "source": [
    "# startswith() method in Python \n",
    "# checks whether a given string starts with a specific prefix.\n",
    "\n",
    "s = \"GeeksforGeeks\"\n",
    "res = s.startswith(\"for\")\n",
    "\n",
    "print(res)\n",
    "\n",
    "print(s.startswith(\"for\", 5, 8))"
   ]
  },
  {
   "cell_type": "markdown",
   "id": "65105918",
   "metadata": {},
   "source": [
    "# Dictionary Methods"
   ]
  },
  {
   "cell_type": "markdown",
   "id": "a258650d",
   "metadata": {},
   "source": [
    "### clear() "
   ]
  },
  {
   "cell_type": "code",
   "execution_count": null,
   "id": "434b5c26",
   "metadata": {},
   "outputs": [
    {
     "name": "stdout",
     "output_type": "stream",
     "text": [
      "{}\n"
     ]
    }
   ],
   "source": [
    "## This method in Python is\n",
    "# used to remove all items (key-value pairs) from a dictionary.\n",
    "\n",
    "d = {1: \"geeks\", 2: \"for\"}\n",
    "\n",
    "# using clear() to remove all items\n",
    "d.clear()\n",
    "print(d)"
   ]
  },
  {
   "cell_type": "markdown",
   "id": "e91e0fa7",
   "metadata": {},
   "source": [
    "### copy()"
   ]
  },
  {
   "cell_type": "code",
   "execution_count": 5,
   "id": "8a8fdffb",
   "metadata": {},
   "outputs": [
    {
     "data": {
      "text/plain": [
       "{'Name': 'Kuanl'}"
      ]
     },
     "execution_count": 5,
     "metadata": {},
     "output_type": "execute_result"
    }
   ],
   "source": [
    "## method returns a shallow copy of the dictionary. \n",
    "\n",
    "K = { \"Name\": \"Kuanl\"}\n",
    "\n",
    "B = K.copy()\n",
    "\n",
    "B"
   ]
  },
  {
   "cell_type": "markdown",
   "id": "3946f4f5",
   "metadata": {},
   "source": [
    "### get()\n"
   ]
  },
  {
   "cell_type": "code",
   "execution_count": 6,
   "id": "0291a1ef",
   "metadata": {},
   "outputs": [
    {
     "name": "stdout",
     "output_type": "stream",
     "text": [
      "good\n"
     ]
    }
   ],
   "source": [
    "## Method returns the value for the given key if present in the dictionary.\n",
    "\n",
    "d = {'coding': 'good', 'thinking': 'better'}\n",
    "print(d.get('coding'))\n"
   ]
  },
  {
   "cell_type": "markdown",
   "id": "85bfe4da",
   "metadata": {},
   "source": [
    "### items()"
   ]
  },
  {
   "cell_type": "code",
   "execution_count": 7,
   "id": "f8d2fceb",
   "metadata": {},
   "outputs": [
    {
     "name": "stdout",
     "output_type": "stream",
     "text": [
      "dict_items([('A', 'Python'), ('B', 'Java'), ('C', 'C++')])\n"
     ]
    }
   ],
   "source": [
    "## method in Python returns a view object that contains\n",
    "#  all the key-value pairs in a dictionary as tuples. \n",
    "\n",
    "d = {'A': 'Python', 'B': 'Java', 'C': 'C++'}\n",
    "\n",
    "# using items() to get all key-value pairs\n",
    "items = d.items()\n",
    "\n",
    "print(items)"
   ]
  },
  {
   "cell_type": "code",
   "execution_count": null,
   "id": "f84f8b0e",
   "metadata": {},
   "outputs": [
    {
     "name": "stdout",
     "output_type": "stream",
     "text": [
      "Key: techinal, Values: MS-CIT\n",
      "Key: soft, Values: communication\n",
      "Key: programming, Values: java\n"
     ]
    }
   ],
   "source": [
    "skills_Job = {\"techinal\": \"MS-CIT\", \"soft\":\"communication\",\"programming\": \"java\"}\n",
    "\n",
    "for key, values in skills_Job.items():\n",
    "    print(strip(f\"Key: {key}, Values: {values}\"))\n",
    "     "
   ]
  },
  {
   "cell_type": "markdown",
   "id": "586aade4",
   "metadata": {},
   "source": [
    "### Keys()"
   ]
  },
  {
   "cell_type": "code",
   "execution_count": 22,
   "id": "f351329e",
   "metadata": {},
   "outputs": [
    {
     "name": "stdout",
     "output_type": "stream",
     "text": [
      "dict_keys(['A', 'B', 'C'])\n",
      "----------------\n",
      "this are the key A\n",
      "this are the key B\n",
      "this are the key C\n",
      "----------------\n",
      "['A', 'B', 'C']\n"
     ]
    }
   ],
   "source": [
    "## method in Python dictionary returns a view object\n",
    "#  that displays a list of all the keys in the dictionary.\n",
    "\n",
    "d = {'A': 'Kunal','B': 'Narendra','C': 'Titarmare'}\n",
    "\n",
    "print(d.keys())\n",
    "\n",
    "print(\"----------------\")\n",
    "\n",
    "for k in d.keys():\n",
    "    print(F\"this are the key {k}\")\n",
    "\n",
    "print(\"----------------\")\n",
    "\n",
    "print(list(d.keys()))\n"
   ]
  },
  {
   "cell_type": "markdown",
   "id": "ed924d2c",
   "metadata": {},
   "source": [
    "### POP()"
   ]
  },
  {
   "cell_type": "code",
   "execution_count": 25,
   "id": "2336a1a3",
   "metadata": {},
   "outputs": [
    {
     "data": {
      "text/plain": [
       "{'A': 'Kunal', 'C': 'Titarmare'}"
      ]
     },
     "execution_count": 25,
     "metadata": {},
     "output_type": "execute_result"
    }
   ],
   "source": [
    "## method removes and returns the value of a specified key from a dictionary.\n",
    "\n",
    "\n",
    "d = {'A': 'Kunal','B': 'Narendra','C': 'Titarmare'}\n",
    "\n",
    "d. pop('B')\n",
    "\n",
    "d"
   ]
  },
  {
   "cell_type": "markdown",
   "id": "e4d44602",
   "metadata": {},
   "source": [
    "### Values()"
   ]
  },
  {
   "cell_type": "code",
   "execution_count": 26,
   "id": "8ebd1e4b",
   "metadata": {},
   "outputs": [
    {
     "name": "stdout",
     "output_type": "stream",
     "text": [
      "dict_values(['Python', 'Java', 'C++'])\n"
     ]
    }
   ],
   "source": [
    "## method in Python is used to obtain a view object that \n",
    "# contains all the values in a dictionary. \n",
    "\n",
    "d = {'A': 'Python', 'B': 'Java', 'C': 'C++'}\n",
    "\n",
    "v = d.values()\n",
    "print(v)"
   ]
  },
  {
   "cell_type": "markdown",
   "id": "3b793b5d",
   "metadata": {},
   "source": [
    "### Update()"
   ]
  },
  {
   "cell_type": "code",
   "execution_count": 27,
   "id": "45567a73",
   "metadata": {},
   "outputs": [
    {
     "name": "stdout",
     "output_type": "stream",
     "text": [
      "{'A': 'Hello', 'B': 'Geeks', 'C': 'Python'}\n"
     ]
    }
   ],
   "source": [
    "## method updates the dictionary with the elements from another \n",
    "# dictionary object or from an iterable of key/value pairs.\n",
    "\n",
    "\n",
    "# update() method in Dictionary\n",
    "\n",
    "# Dictionary with three items\n",
    "d1 = {'A': 'Geeks', 'B': 'For', }\n",
    "d2 = {'B': 'Geeks', 'C': 'Python'}\n",
    "\n",
    "\n",
    "# update the value of key 'B'\n",
    "d1.update(d2)\n",
    "\n",
    "# using keyword arguments\n",
    "d1.update(A='Hello')\n",
    "\n",
    "print(d1)\n"
   ]
  }
 ],
 "metadata": {
  "kernelspec": {
   "display_name": "Python 3",
   "language": "python",
   "name": "python3"
  },
  "language_info": {
   "codemirror_mode": {
    "name": "ipython",
    "version": 3
   },
   "file_extension": ".py",
   "mimetype": "text/x-python",
   "name": "python",
   "nbconvert_exporter": "python",
   "pygments_lexer": "ipython3",
   "version": "3.9.12"
  }
 },
 "nbformat": 4,
 "nbformat_minor": 5
}
